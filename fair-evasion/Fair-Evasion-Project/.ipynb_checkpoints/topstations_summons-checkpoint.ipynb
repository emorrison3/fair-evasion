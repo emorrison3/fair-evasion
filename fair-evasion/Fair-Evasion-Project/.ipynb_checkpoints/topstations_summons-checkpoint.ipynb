{
 "cells": [
  {
   "cell_type": "code",
   "execution_count": 1,
   "metadata": {},
   "outputs": [
    {
     "name": "stderr",
     "output_type": "stream",
     "text": [
      "\n",
      "Attaching package: ‘dplyr’\n",
      "\n",
      "The following objects are masked from ‘package:stats’:\n",
      "\n",
      "    filter, lag\n",
      "\n",
      "The following objects are masked from ‘package:base’:\n",
      "\n",
      "    intersect, setdiff, setequal, union\n",
      "\n"
     ]
    }
   ],
   "source": [
    "library(dplyr)"
   ]
  },
  {
   "cell_type": "code",
   "execution_count": null,
   "metadata": {},
   "outputs": [],
   "source": []
  },
  {
   "cell_type": "code",
   "execution_count": 2,
   "metadata": {},
   "outputs": [],
   "source": [
    "library(readr)"
   ]
  },
  {
   "cell_type": "code",
   "execution_count": 3,
   "metadata": {},
   "outputs": [
    {
     "name": "stderr",
     "output_type": "stream",
     "text": [
      "Parsed with column specification:\n",
      "cols(\n",
      "  AI = \u001b[32mcol_double()\u001b[39m,\n",
      "  API = \u001b[32mcol_double()\u001b[39m,\n",
      "  Black = \u001b[32mcol_double()\u001b[39m,\n",
      "  Hispanic = \u001b[32mcol_double()\u001b[39m,\n",
      "  Unknown = \u001b[32mcol_double()\u001b[39m,\n",
      "  White = \u001b[32mcol_double()\u001b[39m,\n",
      "  Total = \u001b[32mcol_double()\u001b[39m\n",
      ")\n"
     ]
    }
   ],
   "source": [
    "stations_summons <- read_csv(\"clean_summons.csv\") # read in summons data from NYC"
   ]
  },
  {
   "cell_type": "code",
   "execution_count": 4,
   "metadata": {},
   "outputs": [
    {
     "name": "stdout",
     "output_type": "stream",
     "text": [
      "\u001b[90m# A tibble: 10 x 7\u001b[39m\n",
      "      AI   API Black Hispanic Unknown White Total\n",
      "   \u001b[3m\u001b[90m<dbl>\u001b[39m\u001b[23m \u001b[3m\u001b[90m<dbl>\u001b[39m\u001b[23m \u001b[3m\u001b[90m<dbl>\u001b[39m\u001b[23m    \u001b[3m\u001b[90m<dbl>\u001b[39m\u001b[23m   \u001b[3m\u001b[90m<dbl>\u001b[39m\u001b[23m \u001b[3m\u001b[90m<dbl>\u001b[39m\u001b[23m \u001b[3m\u001b[90m<dbl>\u001b[39m\u001b[23m\n",
      "\u001b[90m 1\u001b[39m     3    36   238      203      41   124   645\n",
      "\u001b[90m 2\u001b[39m     4    45   166      152      33   166   566\n",
      "\u001b[90m 3\u001b[39m     1    36   232       87      34    67   457\n",
      "\u001b[90m 4\u001b[39m     5    56   127      104      50   115   457\n",
      "\u001b[90m 5\u001b[39m     1    11   208      134       9    66   429\n",
      "\u001b[90m 6\u001b[39m     2    23    86      102      29    95   337\n",
      "\u001b[90m 7\u001b[39m     0     7   138      161       4    26   336\n",
      "\u001b[90m 8\u001b[39m     0    20   126       86      17    57   306\n",
      "\u001b[90m 9\u001b[39m     0    28    65       80      15    95   283\n",
      "\u001b[90m10\u001b[39m     1     5   114      129       5    10   264\n"
     ]
    }
   ],
   "source": [
    "print(stations_summons)"
   ]
  },
  {
   "cell_type": "code",
   "execution_count": 5,
   "metadata": {},
   "outputs": [
    {
     "name": "stderr",
     "output_type": "stream",
     "text": [
      "Parsed with column specification:\n",
      "cols(\n",
      "  Hispanic = \u001b[32mcol_double()\u001b[39m,\n",
      "  White = \u001b[32mcol_double()\u001b[39m,\n",
      "  Black = \u001b[32mcol_double()\u001b[39m,\n",
      "  AI = \u001b[32mcol_double()\u001b[39m,\n",
      "  API = \u001b[32mcol_double()\u001b[39m,\n",
      "  Unknown = \u001b[32mcol_double()\u001b[39m,\n",
      "  Total = \u001b[32mcol_double()\u001b[39m\n",
      ")\n"
     ]
    }
   ],
   "source": [
    "station_local_demo <- read_csv(\"summons clean.csv\") #read in demographic data for top ten summons stations "
   ]
  },
  {
   "cell_type": "code",
   "execution_count": 6,
   "metadata": {},
   "outputs": [
    {
     "data": {
      "text/html": [
       "<table>\n",
       "<caption>A tibble: 6 × 7</caption>\n",
       "<thead>\n",
       "\t<tr><th scope=col>Hispanic</th><th scope=col>White</th><th scope=col>Black</th><th scope=col>AI</th><th scope=col>API</th><th scope=col>Unknown</th><th scope=col>Total</th></tr>\n",
       "\t<tr><th scope=col>&lt;dbl&gt;</th><th scope=col>&lt;dbl&gt;</th><th scope=col>&lt;dbl&gt;</th><th scope=col>&lt;dbl&gt;</th><th scope=col>&lt;dbl&gt;</th><th scope=col>&lt;dbl&gt;</th><th scope=col>&lt;dbl&gt;</th></tr>\n",
       "</thead>\n",
       "<tbody>\n",
       "\t<tr><td>0.18769547</td><td>0.5140329</td><td>0.07818930</td><td>0.000617284</td><td>0.20148148</td><td>0.01798354</td><td>24300</td></tr>\n",
       "\t<tr><td>0.09717718</td><td>0.7477229</td><td>0.03242999</td><td>0.000000000</td><td>0.09331378</td><td>0.02935619</td><td>35461</td></tr>\n",
       "\t<tr><td>0.12972128</td><td>0.5388382</td><td>0.15743683</td><td>0.000000000</td><td>0.12138578</td><td>0.05261787</td><td>19195</td></tr>\n",
       "\t<tr><td>0.62309032</td><td>0.1937818</td><td>0.07524792</td><td>0.001876173</td><td>0.07960332</td><td>0.02640043</td><td>14924</td></tr>\n",
       "\t<tr><td>0.31973401</td><td>0.1194385</td><td>0.47515179</td><td>0.000738861</td><td>0.05814514</td><td>0.02679174</td><td>31129</td></tr>\n",
       "\t<tr><td>0.10162694</td><td>0.6432461</td><td>0.03935313</td><td>0.001891037</td><td>0.16771543</td><td>0.04616739</td><td>30671</td></tr>\n",
       "</tbody>\n",
       "</table>\n"
      ],
      "text/latex": [
       "A tibble: 6 × 7\n",
       "\\begin{tabular}{r|lllllll}\n",
       " Hispanic & White & Black & AI & API & Unknown & Total\\\\\n",
       " <dbl> & <dbl> & <dbl> & <dbl> & <dbl> & <dbl> & <dbl>\\\\\n",
       "\\hline\n",
       "\t 0.18769547 & 0.5140329 & 0.07818930 & 0.000617284 & 0.20148148 & 0.01798354 & 24300\\\\\n",
       "\t 0.09717718 & 0.7477229 & 0.03242999 & 0.000000000 & 0.09331378 & 0.02935619 & 35461\\\\\n",
       "\t 0.12972128 & 0.5388382 & 0.15743683 & 0.000000000 & 0.12138578 & 0.05261787 & 19195\\\\\n",
       "\t 0.62309032 & 0.1937818 & 0.07524792 & 0.001876173 & 0.07960332 & 0.02640043 & 14924\\\\\n",
       "\t 0.31973401 & 0.1194385 & 0.47515179 & 0.000738861 & 0.05814514 & 0.02679174 & 31129\\\\\n",
       "\t 0.10162694 & 0.6432461 & 0.03935313 & 0.001891037 & 0.16771543 & 0.04616739 & 30671\\\\\n",
       "\\end{tabular}\n"
      ],
      "text/markdown": [
       "\n",
       "A tibble: 6 × 7\n",
       "\n",
       "| Hispanic &lt;dbl&gt; | White &lt;dbl&gt; | Black &lt;dbl&gt; | AI &lt;dbl&gt; | API &lt;dbl&gt; | Unknown &lt;dbl&gt; | Total &lt;dbl&gt; |\n",
       "|---|---|---|---|---|---|---|\n",
       "| 0.18769547 | 0.5140329 | 0.07818930 | 0.000617284 | 0.20148148 | 0.01798354 | 24300 |\n",
       "| 0.09717718 | 0.7477229 | 0.03242999 | 0.000000000 | 0.09331378 | 0.02935619 | 35461 |\n",
       "| 0.12972128 | 0.5388382 | 0.15743683 | 0.000000000 | 0.12138578 | 0.05261787 | 19195 |\n",
       "| 0.62309032 | 0.1937818 | 0.07524792 | 0.001876173 | 0.07960332 | 0.02640043 | 14924 |\n",
       "| 0.31973401 | 0.1194385 | 0.47515179 | 0.000738861 | 0.05814514 | 0.02679174 | 31129 |\n",
       "| 0.10162694 | 0.6432461 | 0.03935313 | 0.001891037 | 0.16771543 | 0.04616739 | 30671 |\n",
       "\n"
      ],
      "text/plain": [
       "  Hispanic   White     Black      AI          API        Unknown    Total\n",
       "1 0.18769547 0.5140329 0.07818930 0.000617284 0.20148148 0.01798354 24300\n",
       "2 0.09717718 0.7477229 0.03242999 0.000000000 0.09331378 0.02935619 35461\n",
       "3 0.12972128 0.5388382 0.15743683 0.000000000 0.12138578 0.05261787 19195\n",
       "4 0.62309032 0.1937818 0.07524792 0.001876173 0.07960332 0.02640043 14924\n",
       "5 0.31973401 0.1194385 0.47515179 0.000738861 0.05814514 0.02679174 31129\n",
       "6 0.10162694 0.6432461 0.03935313 0.001891037 0.16771543 0.04616739 30671"
      ]
     },
     "metadata": {},
     "output_type": "display_data"
    }
   ],
   "source": [
    "head(station_local_demo)"
   ]
  },
  {
   "cell_type": "code",
   "execution_count": 7,
   "metadata": {},
   "outputs": [],
   "source": [
    "station_local_demo <- subset(station_local_demo, select=c(AI, API, Black, Hispanic, Unknown, White)) #drop 'Total' column"
   ]
  },
  {
   "cell_type": "code",
   "execution_count": 8,
   "metadata": {},
   "outputs": [
    {
     "data": {
      "text/html": [
       "<table>\n",
       "<caption>A tibble: 6 × 6</caption>\n",
       "<thead>\n",
       "\t<tr><th scope=col>AI</th><th scope=col>API</th><th scope=col>Black</th><th scope=col>Hispanic</th><th scope=col>Unknown</th><th scope=col>White</th></tr>\n",
       "\t<tr><th scope=col>&lt;dbl&gt;</th><th scope=col>&lt;dbl&gt;</th><th scope=col>&lt;dbl&gt;</th><th scope=col>&lt;dbl&gt;</th><th scope=col>&lt;dbl&gt;</th><th scope=col>&lt;dbl&gt;</th></tr>\n",
       "</thead>\n",
       "<tbody>\n",
       "\t<tr><td>0.000617284</td><td>0.20148148</td><td>0.07818930</td><td>0.18769547</td><td>0.01798354</td><td>0.5140329</td></tr>\n",
       "\t<tr><td>0.000000000</td><td>0.09331378</td><td>0.03242999</td><td>0.09717718</td><td>0.02935619</td><td>0.7477229</td></tr>\n",
       "\t<tr><td>0.000000000</td><td>0.12138578</td><td>0.15743683</td><td>0.12972128</td><td>0.05261787</td><td>0.5388382</td></tr>\n",
       "\t<tr><td>0.001876173</td><td>0.07960332</td><td>0.07524792</td><td>0.62309032</td><td>0.02640043</td><td>0.1937818</td></tr>\n",
       "\t<tr><td>0.000738861</td><td>0.05814514</td><td>0.47515179</td><td>0.31973401</td><td>0.02679174</td><td>0.1194385</td></tr>\n",
       "\t<tr><td>0.001891037</td><td>0.16771543</td><td>0.03935313</td><td>0.10162694</td><td>0.04616739</td><td>0.6432461</td></tr>\n",
       "</tbody>\n",
       "</table>\n"
      ],
      "text/latex": [
       "A tibble: 6 × 6\n",
       "\\begin{tabular}{r|llllll}\n",
       " AI & API & Black & Hispanic & Unknown & White\\\\\n",
       " <dbl> & <dbl> & <dbl> & <dbl> & <dbl> & <dbl>\\\\\n",
       "\\hline\n",
       "\t 0.000617284 & 0.20148148 & 0.07818930 & 0.18769547 & 0.01798354 & 0.5140329\\\\\n",
       "\t 0.000000000 & 0.09331378 & 0.03242999 & 0.09717718 & 0.02935619 & 0.7477229\\\\\n",
       "\t 0.000000000 & 0.12138578 & 0.15743683 & 0.12972128 & 0.05261787 & 0.5388382\\\\\n",
       "\t 0.001876173 & 0.07960332 & 0.07524792 & 0.62309032 & 0.02640043 & 0.1937818\\\\\n",
       "\t 0.000738861 & 0.05814514 & 0.47515179 & 0.31973401 & 0.02679174 & 0.1194385\\\\\n",
       "\t 0.001891037 & 0.16771543 & 0.03935313 & 0.10162694 & 0.04616739 & 0.6432461\\\\\n",
       "\\end{tabular}\n"
      ],
      "text/markdown": [
       "\n",
       "A tibble: 6 × 6\n",
       "\n",
       "| AI &lt;dbl&gt; | API &lt;dbl&gt; | Black &lt;dbl&gt; | Hispanic &lt;dbl&gt; | Unknown &lt;dbl&gt; | White &lt;dbl&gt; |\n",
       "|---|---|---|---|---|---|\n",
       "| 0.000617284 | 0.20148148 | 0.07818930 | 0.18769547 | 0.01798354 | 0.5140329 |\n",
       "| 0.000000000 | 0.09331378 | 0.03242999 | 0.09717718 | 0.02935619 | 0.7477229 |\n",
       "| 0.000000000 | 0.12138578 | 0.15743683 | 0.12972128 | 0.05261787 | 0.5388382 |\n",
       "| 0.001876173 | 0.07960332 | 0.07524792 | 0.62309032 | 0.02640043 | 0.1937818 |\n",
       "| 0.000738861 | 0.05814514 | 0.47515179 | 0.31973401 | 0.02679174 | 0.1194385 |\n",
       "| 0.001891037 | 0.16771543 | 0.03935313 | 0.10162694 | 0.04616739 | 0.6432461 |\n",
       "\n"
      ],
      "text/plain": [
       "  AI          API        Black      Hispanic   Unknown    White    \n",
       "1 0.000617284 0.20148148 0.07818930 0.18769547 0.01798354 0.5140329\n",
       "2 0.000000000 0.09331378 0.03242999 0.09717718 0.02935619 0.7477229\n",
       "3 0.000000000 0.12138578 0.15743683 0.12972128 0.05261787 0.5388382\n",
       "4 0.001876173 0.07960332 0.07524792 0.62309032 0.02640043 0.1937818\n",
       "5 0.000738861 0.05814514 0.47515179 0.31973401 0.02679174 0.1194385\n",
       "6 0.001891037 0.16771543 0.03935313 0.10162694 0.04616739 0.6432461"
      ]
     },
     "metadata": {},
     "output_type": "display_data"
    }
   ],
   "source": [
    "head(station_local_demo)"
   ]
  },
  {
   "cell_type": "code",
   "execution_count": 9,
   "metadata": {},
   "outputs": [],
   "source": [
    "summons_matrix <- data.matrix(stations_summons, rownames.force = NA)\n",
    "demo_matrix <- data.matrix(station_local_demo, rownames.force = NA) #turn dfs into matrices to perform operations"
   ]
  },
  {
   "cell_type": "code",
   "execution_count": null,
   "metadata": {},
   "outputs": [],
   "source": []
  },
  {
   "cell_type": "code",
   "execution_count": 10,
   "metadata": {},
   "outputs": [
    {
     "data": {
      "text/html": [
       "<table>\n",
       "<caption>A matrix: 6 × 6 of type dbl</caption>\n",
       "<thead>\n",
       "\t<tr><th scope=col>AI</th><th scope=col>API</th><th scope=col>Black</th><th scope=col>Hispanic</th><th scope=col>Unknown</th><th scope=col>White</th></tr>\n",
       "</thead>\n",
       "<tbody>\n",
       "\t<tr><td>0.000617284</td><td>0.20148148</td><td>0.07818930</td><td>0.18769547</td><td>0.01798354</td><td>0.5140329</td></tr>\n",
       "\t<tr><td>0.000000000</td><td>0.09331378</td><td>0.03242999</td><td>0.09717718</td><td>0.02935619</td><td>0.7477229</td></tr>\n",
       "\t<tr><td>0.000000000</td><td>0.12138578</td><td>0.15743683</td><td>0.12972128</td><td>0.05261787</td><td>0.5388382</td></tr>\n",
       "\t<tr><td>0.001876173</td><td>0.07960332</td><td>0.07524792</td><td>0.62309032</td><td>0.02640043</td><td>0.1937818</td></tr>\n",
       "\t<tr><td>0.000738861</td><td>0.05814514</td><td>0.47515179</td><td>0.31973401</td><td>0.02679174</td><td>0.1194385</td></tr>\n",
       "\t<tr><td>0.001891037</td><td>0.16771543</td><td>0.03935313</td><td>0.10162694</td><td>0.04616739</td><td>0.6432461</td></tr>\n",
       "</tbody>\n",
       "</table>\n"
      ],
      "text/latex": [
       "A matrix: 6 × 6 of type dbl\n",
       "\\begin{tabular}{llllll}\n",
       " AI & API & Black & Hispanic & Unknown & White\\\\\n",
       "\\hline\n",
       "\t 0.000617284 & 0.20148148 & 0.07818930 & 0.18769547 & 0.01798354 & 0.5140329\\\\\n",
       "\t 0.000000000 & 0.09331378 & 0.03242999 & 0.09717718 & 0.02935619 & 0.7477229\\\\\n",
       "\t 0.000000000 & 0.12138578 & 0.15743683 & 0.12972128 & 0.05261787 & 0.5388382\\\\\n",
       "\t 0.001876173 & 0.07960332 & 0.07524792 & 0.62309032 & 0.02640043 & 0.1937818\\\\\n",
       "\t 0.000738861 & 0.05814514 & 0.47515179 & 0.31973401 & 0.02679174 & 0.1194385\\\\\n",
       "\t 0.001891037 & 0.16771543 & 0.03935313 & 0.10162694 & 0.04616739 & 0.6432461\\\\\n",
       "\\end{tabular}\n"
      ],
      "text/markdown": [
       "\n",
       "A matrix: 6 × 6 of type dbl\n",
       "\n",
       "| AI | API | Black | Hispanic | Unknown | White |\n",
       "|---|---|---|---|---|---|\n",
       "| 0.000617284 | 0.20148148 | 0.07818930 | 0.18769547 | 0.01798354 | 0.5140329 |\n",
       "| 0.000000000 | 0.09331378 | 0.03242999 | 0.09717718 | 0.02935619 | 0.7477229 |\n",
       "| 0.000000000 | 0.12138578 | 0.15743683 | 0.12972128 | 0.05261787 | 0.5388382 |\n",
       "| 0.001876173 | 0.07960332 | 0.07524792 | 0.62309032 | 0.02640043 | 0.1937818 |\n",
       "| 0.000738861 | 0.05814514 | 0.47515179 | 0.31973401 | 0.02679174 | 0.1194385 |\n",
       "| 0.001891037 | 0.16771543 | 0.03935313 | 0.10162694 | 0.04616739 | 0.6432461 |\n",
       "\n"
      ],
      "text/plain": [
       "     AI          API        Black      Hispanic   Unknown    White    \n",
       "[1,] 0.000617284 0.20148148 0.07818930 0.18769547 0.01798354 0.5140329\n",
       "[2,] 0.000000000 0.09331378 0.03242999 0.09717718 0.02935619 0.7477229\n",
       "[3,] 0.000000000 0.12138578 0.15743683 0.12972128 0.05261787 0.5388382\n",
       "[4,] 0.001876173 0.07960332 0.07524792 0.62309032 0.02640043 0.1937818\n",
       "[5,] 0.000738861 0.05814514 0.47515179 0.31973401 0.02679174 0.1194385\n",
       "[6,] 0.001891037 0.16771543 0.03935313 0.10162694 0.04616739 0.6432461"
      ]
     },
     "metadata": {},
     "output_type": "display_data"
    }
   ],
   "source": [
    "head(demo_matrix)"
   ]
  },
  {
   "cell_type": "code",
   "execution_count": null,
   "metadata": {},
   "outputs": [],
   "source": [
    "\n"
   ]
  },
  {
   "cell_type": "code",
   "execution_count": 11,
   "metadata": {},
   "outputs": [
    {
     "name": "stdout",
     "output_type": "stream",
     "text": [
      "            [,1]                  [,2]                  [,3]                 \n",
      "statistic   3                     4                     1                    \n",
      "parameter   645                   566                   457                  \n",
      "p.value     0.007801078           FALSE                 FALSE                \n",
      "conf.int    Numeric,2             Numeric,2             Numeric,2            \n",
      "estimate    0.004651163           0.007067138           0.002188184          \n",
      "null.value  0.000617284           0                     0                    \n",
      "alternative \"two.sided\"           \"two.sided\"           \"two.sided\"          \n",
      "method      \"Exact binomial test\" \"Exact binomial test\" \"Exact binomial test\"\n",
      "data.name   \"x and n\"             \"x and n\"             \"x and n\"            \n",
      "            [,4]                  [,5]                  [,6]                 \n",
      "statistic   5                     1                     2                    \n",
      "parameter   457                   429                   337                  \n",
      "p.value     0.001876413           0.2717337             0.1342072            \n",
      "conf.int    Numeric,2             Numeric,2             Numeric,2            \n",
      "estimate    0.01094092            0.002331002           0.005934718          \n",
      "null.value  0.001876173           0.000738861           0.001891037          \n",
      "alternative \"two.sided\"           \"two.sided\"           \"two.sided\"          \n",
      "method      \"Exact binomial test\" \"Exact binomial test\" \"Exact binomial test\"\n",
      "data.name   \"x and n\"             \"x and n\"             \"x and n\"            \n",
      "            [,7]                  [,8]                  [,9]                 \n",
      "statistic   0                     0                     0                    \n",
      "parameter   336                   306                   283                  \n",
      "p.value     TRUE                  1                     TRUE                 \n",
      "conf.int    Numeric,2             Numeric,2             Numeric,2            \n",
      "estimate    0                     0                     0                    \n",
      "null.value  0                     0.002175602           0                    \n",
      "alternative \"two.sided\"           \"two.sided\"           \"two.sided\"          \n",
      "method      \"Exact binomial test\" \"Exact binomial test\" \"Exact binomial test\"\n",
      "data.name   \"x and n\"             \"x and n\"             \"x and n\"            \n",
      "            [,10]                 [,11]                 [,12]                \n",
      "statistic   1                     36                    45                   \n",
      "parameter   264                   645                   566                  \n",
      "p.value     0.2271981             1.12775e-25           0.2787169            \n",
      "conf.int    Numeric,2             Numeric,2             Numeric,2            \n",
      "estimate    0.003787879           0.05581395            0.0795053            \n",
      "null.value  0.000975783           0.2014815             0.09331378           \n",
      "alternative \"two.sided\"           \"two.sided\"           \"two.sided\"          \n",
      "method      \"Exact binomial test\" \"Exact binomial test\" \"Exact binomial test\"\n",
      "data.name   \"x and n\"             \"x and n\"             \"x and n\"            \n",
      "            [,13]                 [,14]                 [,15]                \n",
      "statistic   36                    56                    11                   \n",
      "parameter   457                   457                   429                  \n",
      "p.value     0.004085314           0.001326956           0.00255395           \n",
      "conf.int    Numeric,2             Numeric,2             Numeric,2            \n",
      "estimate    0.07877462            0.1225383             0.02564103           \n",
      "null.value  0.1213858             0.07960332            0.05814514           \n",
      "alternative \"two.sided\"           \"two.sided\"           \"two.sided\"          \n",
      "method      \"Exact binomial test\" \"Exact binomial test\" \"Exact binomial test\"\n",
      "data.name   \"x and n\"             \"x and n\"             \"x and n\"            \n",
      "            [,16]                 [,17]                 [,18]                \n",
      "statistic   23                    7                     20                   \n",
      "parameter   337                   336                   306                  \n",
      "p.value     1.100502e-07          0.5079003             0.7410801            \n",
      "conf.int    Numeric,2             Numeric,2             Numeric,2            \n",
      "estimate    0.06824926            0.02083333            0.06535948           \n",
      "null.value  0.1677154             0.01601877            0.07303807           \n",
      "alternative \"two.sided\"           \"two.sided\"           \"two.sided\"          \n",
      "method      \"Exact binomial test\" \"Exact binomial test\" \"Exact binomial test\"\n",
      "data.name   \"x and n\"             \"x and n\"             \"x and n\"            \n",
      "            [,19]                 [,20]                 [,21]                \n",
      "statistic   28                    5                     238                  \n",
      "parameter   283                   264                   645                  \n",
      "p.value     0.0006744168          0.002057626           1.563576e-95         \n",
      "conf.int    Numeric,2             Numeric,2             Numeric,2            \n",
      "estimate    0.09893993            0.01893939            0.3689922            \n",
      "null.value  0.1717654             0.003326532           0.0781893            \n",
      "alternative \"two.sided\"           \"two.sided\"           \"two.sided\"          \n",
      "method      \"Exact binomial test\" \"Exact binomial test\" \"Exact binomial test\"\n",
      "data.name   \"x and n\"             \"x and n\"             \"x and n\"            \n",
      "            [,22]                 [,23]                 [,24]                \n",
      "statistic   166                   232                   127                  \n",
      "parameter   566                   457                   457                  \n",
      "p.value     2.658313e-106         1.565612e-67          1.298707e-38         \n",
      "conf.int    Numeric,2             Numeric,2             Numeric,2            \n",
      "estimate    0.2932862             0.5076586             0.2778993            \n",
      "null.value  0.03242999            0.1574368             0.07524792           \n",
      "alternative \"two.sided\"           \"two.sided\"           \"two.sided\"          \n",
      "method      \"Exact binomial test\" \"Exact binomial test\" \"Exact binomial test\"\n",
      "data.name   \"x and n\"             \"x and n\"             \"x and n\"            \n",
      "            [,25]                 [,26]                 [,27]                \n",
      "statistic   208                   86                    138                  \n",
      "parameter   429                   337                   336                  \n",
      "p.value     0.6991431             4.674349e-44          5.21535e-16          \n",
      "conf.int    Numeric,2             Numeric,2             Numeric,2            \n",
      "estimate    0.4848485             0.2551929             0.4107143            \n",
      "null.value  0.4751518             0.03935313            0.2137647            \n",
      "alternative \"two.sided\"           \"two.sided\"           \"two.sided\"          \n",
      "method      \"Exact binomial test\" \"Exact binomial test\" \"Exact binomial test\"\n",
      "data.name   \"x and n\"             \"x and n\"             \"x and n\"            \n",
      "            [,28]                 [,29]                 [,30]                \n",
      "statistic   126                   65                    114                  \n",
      "parameter   306                   283                   264                  \n",
      "p.value     2.843462e-39          1                     1.709391e-11         \n",
      "conf.int    Numeric,2             Numeric,2             Numeric,2            \n",
      "estimate    0.4117647             0.229682              0.4318182            \n",
      "null.value  0.1164724             0.2311511             0.2423933            \n",
      "alternative \"two.sided\"           \"two.sided\"           \"two.sided\"          \n",
      "method      \"Exact binomial test\" \"Exact binomial test\" \"Exact binomial test\"\n",
      "data.name   \"x and n\"             \"x and n\"             \"x and n\"            \n",
      "            [,31]                 [,32]                 [,33]                \n",
      "statistic   203                   152                   87                   \n",
      "parameter   645                   566                   457                  \n",
      "p.value     1.338406e-14          2.96111e-31           0.0002742465         \n",
      "conf.int    Numeric,2             Numeric,2             Numeric,2            \n",
      "estimate    0.3147287             0.2685512             0.190372             \n",
      "null.value  0.1876955             0.09717718            0.1297213            \n",
      "alternative \"two.sided\"           \"two.sided\"           \"two.sided\"          \n",
      "method      \"Exact binomial test\" \"Exact binomial test\" \"Exact binomial test\"\n",
      "data.name   \"x and n\"             \"x and n\"             \"x and n\"            \n",
      "            [,34]                 [,35]                 [,36]                \n",
      "statistic   104                   134                   102                  \n",
      "parameter   457                   429                   337                  \n",
      "p.value     3.039137e-66          0.7957965             2.059559e-24         \n",
      "conf.int    Numeric,2             Numeric,2             Numeric,2            \n",
      "estimate    0.2275711             0.3123543             0.3026706            \n",
      "null.value  0.6230903             0.319734              0.1016269            \n",
      "alternative \"two.sided\"           \"two.sided\"           \"two.sided\"          \n",
      "method      \"Exact binomial test\" \"Exact binomial test\" \"Exact binomial test\"\n",
      "data.name   \"x and n\"             \"x and n\"             \"x and n\"            \n",
      "            [,37]                 [,38]                 [,39]                \n",
      "statistic   161                   86                    80                   \n",
      "parameter   336                   306                   283                  \n",
      "p.value     2.49219e-06           4.866298e-27          2.836297e-10         \n",
      "conf.int    Numeric,2             Numeric,2             Numeric,2            \n",
      "estimate    0.4791667             0.2810458             0.2826855            \n",
      "null.value  0.606253              0.07536907            0.139125             \n",
      "alternative \"two.sided\"           \"two.sided\"           \"two.sided\"          \n",
      "method      \"Exact binomial test\" \"Exact binomial test\" \"Exact binomial test\"\n",
      "data.name   \"x and n\"             \"x and n\"             \"x and n\"            \n",
      "            [,40]                 [,41]                 [,42]                \n",
      "statistic   129                   41                    33                   \n",
      "parameter   264                   645                   566                  \n",
      "p.value     9.773954e-14          8.404128e-12          0.0002457941         \n",
      "conf.int    Numeric,2             Numeric,2             Numeric,2            \n",
      "estimate    0.4886364             0.06356589            0.05830389           \n",
      "null.value  0.7074426             0.01798354            0.02935619           \n",
      "alternative \"two.sided\"           \"two.sided\"           \"two.sided\"          \n",
      "method      \"Exact binomial test\" \"Exact binomial test\" \"Exact binomial test\"\n",
      "data.name   \"x and n\"             \"x and n\"             \"x and n\"            \n",
      "            [,43]                 [,44]                 [,45]                \n",
      "statistic   34                    50                    9                    \n",
      "parameter   457                   457                   429                  \n",
      "p.value     0.0455269             5.763663e-17          0.5503448            \n",
      "conf.int    Numeric,2             Numeric,2             Numeric,2            \n",
      "estimate    0.07439825            0.1094092             0.02097902           \n",
      "null.value  0.05261787            0.02640043            0.02679174           \n",
      "alternative \"two.sided\"           \"two.sided\"           \"two.sided\"          \n",
      "method      \"Exact binomial test\" \"Exact binomial test\" \"Exact binomial test\"\n",
      "data.name   \"x and n\"             \"x and n\"             \"x and n\"            \n",
      "            [,46]                 [,47]                 [,48]                \n",
      "statistic   29                    4                     17                   \n",
      "parameter   337                   336                   306                  \n",
      "p.value     0.001563989           1                     3.279356e-06         \n",
      "conf.int    Numeric,2             Numeric,2             Numeric,2            \n",
      "estimate    0.08605341            0.01190476            0.05555556           \n",
      "null.value  0.04616739            0.01281501            0.01445221           \n",
      "alternative \"two.sided\"           \"two.sided\"           \"two.sided\"          \n",
      "method      \"Exact binomial test\" \"Exact binomial test\" \"Exact binomial test\"\n",
      "data.name   \"x and n\"             \"x and n\"             \"x and n\"            \n",
      "            [,49]                 [,50]                 [,51]                \n",
      "statistic   15                    5                     124                  \n",
      "parameter   283                   264                   645                  \n",
      "p.value     0.4762775             0.03443717            6.814697e-64         \n",
      "conf.int    Numeric,2             Numeric,2             Numeric,2            \n",
      "estimate    0.05300353            0.01893939            0.1922481            \n",
      "null.value  0.04536146            0.006741772           0.5140329            \n",
      "alternative \"two.sided\"           \"two.sided\"           \"two.sided\"          \n",
      "method      \"Exact binomial test\" \"Exact binomial test\" \"Exact binomial test\"\n",
      "data.name   \"x and n\"             \"x and n\"             \"x and n\"            \n",
      "            [,52]                 [,53]                 [,54]                \n",
      "statistic   166                   67                    115                  \n",
      "parameter   566                   457                   457                  \n",
      "p.value     1.43055e-113          4.845834e-68          0.002486244          \n",
      "conf.int    Numeric,2             Numeric,2             Numeric,2            \n",
      "estimate    0.2932862             0.1466083             0.2516411            \n",
      "null.value  0.7477229             0.5388382             0.1937818            \n",
      "alternative \"two.sided\"           \"two.sided\"           \"two.sided\"          \n",
      "method      \"Exact binomial test\" \"Exact binomial test\" \"Exact binomial test\"\n",
      "data.name   \"x and n\"             \"x and n\"             \"x and n\"            \n",
      "            [,55]                 [,56]                 [,57]                \n",
      "statistic   66                    95                    26                   \n",
      "parameter   429                   337                   336                  \n",
      "p.value     0.03081462            2.221399e-41          6.685916e-05         \n",
      "conf.int    Numeric,2             Numeric,2             Numeric,2            \n",
      "estimate    0.1538462             0.2818991             0.07738095           \n",
      "null.value  0.1194385             0.6432461             0.1511485            \n",
      "alternative \"two.sided\"           \"two.sided\"           \"two.sided\"          \n",
      "method      \"Exact binomial test\" \"Exact binomial test\" \"Exact binomial test\"\n",
      "data.name   \"x and n\"             \"x and n\"             \"x and n\"            \n",
      "            [,58]                 [,59]                 [,60]                \n",
      "statistic   57                    95                    10                   \n",
      "parameter   306                   283                   264                  \n",
      "p.value     2.747281e-83          0.00931181            1                    \n",
      "conf.int    Numeric,2             Numeric,2             Numeric,2            \n",
      "estimate    0.1862745             0.335689              0.03787879           \n",
      "null.value  0.7184926             0.412597              0.03912002           \n",
      "alternative \"two.sided\"           \"two.sided\"           \"two.sided\"          \n",
      "method      \"Exact binomial test\" \"Exact binomial test\" \"Exact binomial test\"\n",
      "data.name   \"x and n\"             \"x and n\"             \"x and n\"            \n"
     ]
    }
   ],
   "source": [
    "b_test <- function(x, n, p){ \n",
    "    ##perform binomial test on the number of summons given to a specific group (x) out of the total number of summons \n",
    "    ##for that sation (n) comparing it to that group's representation in the local area (p)\n",
    "    binom.test(x, n, p)\n",
    "    } \n",
    "\n",
    "print(mapply(b_test, summons_matrix[,1:6], summons_matrix[,7], demo_matrix[,1:6])) \n",
    "##allows rowwise application of b_test function\n"
   ]
  },
  {
   "cell_type": "code",
   "execution_count": null,
   "metadata": {},
   "outputs": [],
   "source": []
  }
 ],
 "metadata": {
  "kernelspec": {
   "display_name": "R",
   "language": "R",
   "name": "ir"
  },
  "language_info": {
   "codemirror_mode": "r",
   "file_extension": ".r",
   "mimetype": "text/x-r-source",
   "name": "R",
   "pygments_lexer": "r",
   "version": "3.6.1"
  }
 },
 "nbformat": 4,
 "nbformat_minor": 4
}
